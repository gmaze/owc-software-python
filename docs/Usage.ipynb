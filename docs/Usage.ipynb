{
 "cells": [
  {
   "cell_type": "markdown",
   "metadata": {},
   "source": [
    "# Test OWC Python software"
   ]
  },
  {
   "cell_type": "code",
   "execution_count": 1,
   "metadata": {},
   "outputs": [],
   "source": [
    "import sys, os, glob\n",
    "import numpy as np\n",
    "import pandas as pd\n",
    "import xarray as xr\n",
    "\n",
    "# Importing pyowc in dev mode:\n",
    "# sys.path.insert(0, \"/Users/gmaze/git/github/gmaze/owc-software-python\")\n",
    "# import owc_calibration\n",
    "\n",
    "# Otherwise from binder, it should already be installed"
   ]
  },
  {
   "cell_type": "code",
   "execution_count": 2,
   "metadata": {},
   "outputs": [],
   "source": [
    "from owc_calibration.load_configuration.load_configuration import load_configuration\n",
    "from owc_calibration.update_salinity_mapping.update_salinity_mapping import update_salinity_mapping"
   ]
  },
  {
   "cell_type": "markdown",
   "metadata": {},
   "source": [
    "## Run calibration"
   ]
  },
  {
   "cell_type": "markdown",
   "metadata": {},
   "source": [
    "### Set-up parameters"
   ]
  },
  {
   "cell_type": "code",
   "execution_count": 3,
   "metadata": {},
   "outputs": [
    {
     "name": "stdout",
     "output_type": "stream",
     "text": [
      "          HISTORICAL_DIRECTORY: data/climatology\n",
      "        FLOAT_SOURCE_DIRECTORY: data/float_source\n",
      "        FLOAT_MAPPED_DIRECTORY: data/float_mapped/\n",
      "              CONFIG_DIRECTORY: data/constants/\n",
      "\n",
      "\n",
      "          HISTORICAL_DIRECTORY: /Users/gmaze/git/github/gmaze/owc-software-python/data/climatology\n",
      "         HISTORICAL_CTD_PREFIX: /historical_ctd/ctd_\n",
      "      HISTORICAL_BOTTLE_PREFIX: /historical_bot/bot_\n",
      "        HISTORICAL_ARGO_PREFIX: /historical_argo/argo_\n",
      "        FLOAT_SOURCE_DIRECTORY: /Users/gmaze/git/github/gmaze/owc-software-python/data/float_source\n",
      "          FLOAT_SOURCE_POSTFIX: .mat\n",
      "        FLOAT_MAPPED_DIRECTORY: /Users/gmaze/git/github/gmaze/owc-software-python/data/float_mapped/\n",
      "           FLOAT_MAPPED_PREFIX: map_\n",
      "          FLOAT_MAPPED_POSTFIX: .mat\n",
      "         FLOAT_CALIB_DIRECTORY: /home/awong/argo/OW/data/float_calib/\n",
      "            FLOAT_CALIB_PREFIX: cal_\n",
      "        FLOAT_CALSERIES_PREFIX: calseries_\n",
      "           FLOAT_CALIB_POSTFIX: .mat\n",
      "         FLOAT_PLOTS_DIRECTORY: /home/awong/argo/OW/data/float_plots/\n",
      "              CONFIG_DIRECTORY: /Users/gmaze/git/github/gmaze/owc-software-python/data/constants/\n",
      "             CONFIG_COASTLINES: coastdat.mat\n",
      "              CONFIG_WMO_BOXES: wmo_boxes.mat\n",
      "                    CONFIG_SAF: TypicalProfileAroundSAF.mat\n",
      "              CONFIG_MAX_CASTS: 300\n",
      "                    MAP_USE_PV: 0\n",
      "                   MAP_USE_SAF: 0\n",
      "      MAPSCALE_LONGITUDE_LARGE: 8\n",
      "      MAPSCALE_LONGITUDE_SMALL: 4\n",
      "       MAPSCALE_LATITUDE_LARGE: 4\n",
      "       MAPSCALE_LATITUDE_SMALL: 2\n",
      "            MAPSCALE_PHI_LARGE: 0.5\n",
      "            MAPSCALE_PHI_SMALL: 0.1\n",
      "            MAPSCALE_AGE_LARGE: 20\n",
      "            MAPSCALE_AGE_SMALL: 10\n",
      "                 MAP_P_EXCLUDE: 200\n",
      "                   MAP_P_DELTA: 250\n"
     ]
    }
   ],
   "source": [
    "# store name for profile\n",
    "FLOAT_NAME = \"3901960\"\n",
    "\n",
    "# fetch the configuration and parameters set by the user\n",
    "USER_CONFIG = load_configuration()\n",
    "\n",
    "# Update path of data folder:\n",
    "# USER_CONFIG['FLOAT_SOURCE_DIRECTORY'] = os.path.sep.join([os.path.split(owc_calibration.__file__)[0].replace('owc_calibration','') + 'data','float_source'])\n",
    "for k in USER_CONFIG:\n",
    "    if \"DIRECTORY\" in k and \"data/\" in USER_CONFIG[k][0:5]:\n",
    "        print(\"%30s: %s\" % (k, USER_CONFIG[k]))\n",
    "        USER_CONFIG[k] = USER_CONFIG[k].replace(\"data/\", os.path.split(owc_calibration.__file__)[0].replace('owc_calibration','') + 'data/')\n",
    "print(\"\\n\")\n",
    "for k in USER_CONFIG:\n",
    "    print(\"%30s: %s\" % (k, USER_CONFIG[k]))"
   ]
  },
  {
   "cell_type": "markdown",
   "metadata": {},
   "source": [
    "## Get historical salinity data for comparison and compute calibration"
   ]
  },
  {
   "cell_type": "code",
   "execution_count": 4,
   "metadata": {},
   "outputs": [
    {
     "name": "stdout",
     "output_type": "stream",
     "text": [
      "\n",
      "CONFIGURATION PARAMETERS\n",
      "__________________________________________________________\n",
      "WMO box file:  wmo_boxes.mat\n",
      "max_casts:  300\n",
      "map_use_pv:  0\n",
      "map_use_saf:  0\n",
      "long_large:  8\n",
      "long_small:  4\n",
      "lat_large:  4\n",
      "lat_small:  2\n",
      "phi_large:  0.5\n",
      "phi_small:  0.1\n",
      "map_age_large:  20\n",
      "map_age_small:  10\n",
      "map_p_delta:  250\n",
      "map_p_exclude:  200\n",
      "__________________________________________________________\n",
      "Using precaulcated data:  /Users/gmaze/git/github/gmaze/owc-software-python/data/float_mapped//map_3901960.mat\n",
      "__________________________________________________________\n"
     ]
    },
    {
     "name": "stderr",
     "output_type": "stream",
     "text": [
      "/Users/gmaze/git/github/gmaze/owc-software-python/owc_calibration/update_salinity_mapping/update_salinity_mapping.py:488: RuntimeWarning: invalid value encountered in less\n",
      "  bad_sal_30 = np.argwhere(la_mapped_sal < 30)\n",
      "/Users/gmaze/git/github/gmaze/owc-software-python/owc_calibration/update_salinity_mapping/update_salinity_mapping.py:489: RuntimeWarning: invalid value encountered in greater\n",
      "  bad_sal_40 = np.argwhere(la_mapped_sal > 40)\n"
     ]
    }
   ],
   "source": [
    "update_salinity_mapping(\"/\", FLOAT_NAME, USER_CONFIG)"
   ]
  },
  {
   "cell_type": "markdown",
   "metadata": {},
   "source": [
    "## Plots"
   ]
  },
  {
   "cell_type": "code",
   "execution_count": 5,
   "metadata": {},
   "outputs": [],
   "source": [
    "from owc_calibration.plot_diagnostics.plot_diagnostics import plot_diagnostics"
   ]
  },
  {
   "cell_type": "code",
   "execution_count": 6,
   "metadata": {},
   "outputs": [
    {
     "data": {
      "image/png": "[encoded data removed]",
      "text/plain": [
       "<Figure size 432x288 with 1 Axes>"
      ]
     },
     "metadata": {
      "needs_background": "light"
     },
     "output_type": "display_data"
    }
   ],
   "source": [
    "# create the diagnostic plots\n",
    "plot_diagnostics(\"/\", FLOAT_NAME, USER_CONFIG)"
   ]
  }
 ],
 "metadata": {
  "kernelspec": {
   "display_name": "Python 3",
   "language": "python",
   "name": "python3"
  },
  "language_info": {
   "codemirror_mode": {
    "name": "ipython",
    "version": 3
   },
   "file_extension": ".py",
   "mimetype": "text/x-python",
   "name": "python",
   "nbconvert_exporter": "python",
   "pygments_lexer": "ipython3",
   "version": "3.6.10"
  },
  "widgets": {
   "application/vnd.jupyter.widget-state+json": {
    "state": {},
    "version_major": 2,
    "version_minor": 0
   }
  }
 },
 "nbformat": 4,
 "nbformat_minor": 4
}
